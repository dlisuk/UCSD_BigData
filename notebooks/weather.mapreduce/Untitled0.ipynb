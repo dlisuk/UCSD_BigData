{
 "metadata": {
  "name": "",
  "signature": "sha256:df423c6c1950c1a8bf6f9df914138784135e6702710ccc99ab2c6ebc90fad821"
 },
 "nbformat": 3,
 "nbformat_minor": 0,
 "worksheets": [
  {
   "cells": [
    {
     "cell_type": "code",
     "collapsed": false,
     "input": [
      "import gzip\n",
      "import cPickle\n",
      "f = gzip.open( \"stations.pkl.gz\" , \"rb\" )\n",
      "pickleFile = cPickle.Unpickler( f )\n",
      "stations = pickleFile.load()[['latitude','longitude','elevation']]\n",
      "f.close()\n"
     ],
     "language": "python",
     "metadata": {},
     "outputs": [],
     "prompt_number": 11
    },
    {
     "cell_type": "code",
     "collapsed": false,
     "input": [
      "stations.loc['ASN00009024']"
     ],
     "language": "python",
     "metadata": {},
     "outputs": [
      {
       "metadata": {},
       "output_type": "pyout",
       "prompt_number": 13,
       "text": [
        "latitude     -31.5608\n",
        "longitude    116.0842\n",
        "elevation    150.0000\n",
        "Name: ASN00009024, dtype: float64"
       ]
      }
     ],
     "prompt_number": 13
    },
    {
     "cell_type": "code",
     "collapsed": false,
     "input": [],
     "language": "python",
     "metadata": {},
     "outputs": []
    }
   ],
   "metadata": {}
  }
 ]
}